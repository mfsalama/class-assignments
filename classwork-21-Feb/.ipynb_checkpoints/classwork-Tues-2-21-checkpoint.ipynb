{
 "cells": [
  {
   "cell_type": "markdown",
   "metadata": {},
   "source": [
    "# Guided exploration of the data: "
   ]
  },
  {
   "cell_type": "markdown",
   "metadata": {},
   "source": [
    "1)what does each row in cocoli.txt represent? Data for individual trees single records. Each record contains column for species code. \n",
    "\n",
    "2)what does each row in cocolip.txt represent? Different species code.\n"
   ]
  },
  {
   "cell_type": "markdown",
   "metadata": {},
   "source": [
    "3)what does multi2 indicate? It indicates the number of stems it has at second census date. \n",
    "\n",
    "4)What does dbh2 refer to? It indicates the diameter of biggest stem at each time point.\n",
    "\n",
    "5)how can we find the genus and species name of this record? copy and paste epcies code and input into terminal and use the command grep to find. \n",
    "\n",
    "6)What is the genus and species name of this record?copy and paste epcies code and input into terminal and use the command grep to find. "
   ]
  },
  {
   "cell_type": "markdown",
   "metadata": {},
   "source": [
    "7)What happened to indiv. dbh= -1 means the plant is dead !"
   ]
  },
  {
   "cell_type": "markdown",
   "metadata": {},
   "source": [
    "**Dicuss with partner: Given your knowledge of the dataset, brainstorm some interesting questions that you might be able to answer with these data.\n",
    "-what is the relationship between the growth of trees and water abundancy ?\n",
    "-Did plants in general change in growth rate over time?\n",
    "-Is there variation in growth rate across the plot?\n",
    "-Which species/ genus have the biggest rate of growth?"
   ]
  },
  {
   "cell_type": "markdown",
   "metadata": {},
   "source": [
    "\n",
    "**which genus is the most species-rich in this community? PIPER.\n",
    "\n",
    "-Code to do so: sed 's\\/s/,g' cocolisp.txt | cut -d \",\" -f 2 | sort | uniq -c | sort -n\n",
    "\n",
    "**how many genera have just one species represented in this community? 99\n",
    "\n",
    "-code to do so: sed 's\\/s/,g' cocolisp.txt | cut -d \",\" -f 2 | sort|uniq -c| sort -n | grep -w \"1\" | wc -l\n",
    "\n",
    "**this community has one species in the family Bignoniaceae. what is the name of the species? How many individuals of the species are in the community?\n",
    "\n",
    "-code for species name and then grep name. "
   ]
  },
  {
   "cell_type": "markdown",
   "metadata": {},
   "source": [
    "# Guided exploration of the data- build pseudocode !\n",
    "\n",
    "-which individual had the highest yearly RGR between 1994-1998? I would need to find the rate first between these two codes then compare them. \n",
    "\n",
    "-note: remember that in python dictonairies are undordered collections. How can you sort that? \n",
    "\n",
    "-to which pecies does this individual belong? Dictionairies. Sort based on code. \n"
   ]
  },
  {
   "cell_type": "code",
   "execution_count": null,
   "metadata": {
    "collapsed": true
   },
   "outputs": [],
   "source": []
  }
 ],
 "metadata": {
  "anaconda-cloud": {},
  "kernelspec": {
   "display_name": "Python [default]",
   "language": "python",
   "name": "python3"
  },
  "language_info": {
   "codemirror_mode": {
    "name": "ipython",
    "version": 3
   },
   "file_extension": ".py",
   "mimetype": "text/x-python",
   "name": "python",
   "nbconvert_exporter": "python",
   "pygments_lexer": "ipython3",
   "version": "3.5.2"
  }
 },
 "nbformat": 4,
 "nbformat_minor": 2
}
