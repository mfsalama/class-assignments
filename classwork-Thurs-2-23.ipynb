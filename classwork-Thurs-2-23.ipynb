{
 "cells": [
  {
   "cell_type": "code",
   "execution_count": null,
   "metadata": {
    "collapsed": true
   },
   "outputs": [],
   "source": [
    "# Code used to download html:\n",
    "    \n",
    "curl -s 'http://fishbase.us/summary/SpeciesSummary.php?ID=4249' > flatfish.html\n",
    "gedit flatfish.html\n",
    "\n",
    "grep Etymology flatfish.html"
   ]
  },
  {
   "cell_type": "markdown",
   "metadata": {},
   "source": [
    "# Exercise 1\n",
    "\n",
    "In a pipeline, use curl, grep, and cut to extract the “Fisheries” status of the starry flounder.\n",
    "\n",
    "Code: curl -s 'http://fishbase.us/summary/SpeciesSummary.php?ID=4249' | grep Fisheries | cut -d \",\" -f 1 | cut -d ':' -f 2"
   ]
  },
  {
   "cell_type": "markdown",
   "metadata": {},
   "source": [
    "# Part 2. Web scraping, in Python"
   ]
  },
  {
   "cell_type": "code",
   "execution_count": 13,
   "metadata": {
    "collapsed": false
   },
   "outputs": [],
   "source": [
    "import urllib.request\n",
    "from bs4 import BeautifulSoup"
   ]
  },
  {
   "cell_type": "code",
   "execution_count": 7,
   "metadata": {
    "collapsed": true
   },
   "outputs": [],
   "source": [
    "family_url = \"http://www.fishbase.org/Nomenclature/NominalSpeciesList.php?family=Abyssocottidae\""
   ]
  },
  {
   "cell_type": "code",
   "execution_count": 14,
   "metadata": {
    "collapsed": false
   },
   "outputs": [],
   "source": [
    "html = urllib.request.urlopen(family_url)\n",
    "html_doc = html.read()\n",
    "html.close()"
   ]
  },
  {
   "cell_type": "code",
   "execution_count": 15,
   "metadata": {
    "collapsed": false
   },
   "outputs": [
    {
     "name": "stderr",
     "output_type": "stream",
     "text": [
      "/home/eeb177-student/miniconda3/lib/python3.5/site-packages/bs4/__init__.py:181: UserWarning: No parser was explicitly specified, so I'm using the best available HTML parser for this system (\"html.parser\"). This usually isn't a problem, but if you run this code on another system, or in a different virtual environment, it may use a different parser and behave differently.\n",
      "\n",
      "The code that caused this warning is on line 184 of the file /home/eeb177-student/miniconda3/lib/python3.5/runpy.py. To get rid of this warning, change code that looks like this:\n",
      "\n",
      " BeautifulSoup([your markup])\n",
      "\n",
      "to this:\n",
      "\n",
      " BeautifulSoup([your markup], \"html.parser\")\n",
      "\n",
      "  markup_type=markup_type))\n"
     ]
    }
   ],
   "source": [
    "soup = BeautifulSoup(html_doc)"
   ]
  },
  {
   "cell_type": "code",
   "execution_count": 16,
   "metadata": {
    "collapsed": true
   },
   "outputs": [],
   "source": [
    "links = soup.find_all(\"a\")"
   ]
  },
  {
   "cell_type": "code",
   "execution_count": 23,
   "metadata": {
    "collapsed": false
   },
   "outputs": [
    {
     "name": "stdout",
     "output_type": "stream",
     "text": [
      "Limnocottus bergianus\n",
      "Cottinella boulengeri\n",
      "Abyssocottus elochini\n",
      "Abyssocottus gibbosus\n",
      "Abyssocottus gibbosus\n",
      "Limnocottus godlewskii\n",
      "Limnocottus godlewskii\n",
      "Limnocottus griseus\n",
      "Procottus gotoi\n",
      "Procottus gurwicii\n",
      "Asprocottus herzensteini\n",
      "Asprocottus abyssalis\n",
      "Asprocottus intermedius\n",
      "Asprocottus parmiferus\n",
      "Asprocottus platycephalus\n",
      "Procottus jeittelesii\n",
      "Procottus major\n",
      "Procottus gurwicii\n",
      "Procottus jeittelesii\n",
      "Asprocottus korjakovi\n",
      "Asprocottus minor\n",
      "Abyssocottus korotneffi\n",
      "Cyphocottus megalops\n",
      "Cyphocottus megalops\n",
      "Cyphocottus eurystomus\n",
      "Limnocottus pallidus\n",
      "Asprocottus pulcher\n",
      "Neocottus thermalis\n",
      "Neocottus werestschagini\n"
     ]
    }
   ],
   "source": [
    "for link in links:\n",
    "        italics = link.find_all(\"i\")\n",
    "        for italic in italics:\n",
    "            print(italic.string)"
   ]
  },
  {
   "cell_type": "markdown",
   "metadata": {},
   "source": [
    "# Exercise 2:\n",
    "-Skip for now"
   ]
  },
  {
   "cell_type": "code",
   "execution_count": null,
   "metadata": {
    "collapsed": true
   },
   "outputs": [],
   "source": []
  },
  {
   "cell_type": "markdown",
   "metadata": {},
   "source": [
    "# Part 3. Meet my friend, “JSON API”"
   ]
  },
  {
   "cell_type": "markdown",
   "metadata": {
    "collapsed": false
   },
   "source": [
    "curl 'https://fishbase.ropensci.org/species/?genus=Platichthys&species=stellatus'"
   ]
  },
  {
   "cell_type": "code",
   "execution_count": 12,
   "metadata": {
    "collapsed": false
   },
   "outputs": [],
   "source": [
    "import urllib.request\n",
    "import json\n",
    "\n",
    "api_url = \"https://fishbase.ropensci.org/species/?genus=Platichthys&species=stellatus\"\n",
    "\n",
    "raw_json = urllib.request.urlopen(api_url)\n",
    "decoded_json = raw_json.read().decode('utf-8')\n",
    "parsed_json = json.loads(decoded_json) ## we use the json.load method directly\n",
    "raw_json.close()"
   ]
  },
  {
   "cell_type": "code",
   "execution_count": 13,
   "metadata": {
    "collapsed": false
   },
   "outputs": [
    {
     "data": {
      "text/plain": [
       "{'count': 1,\n",
       " 'data': [{'AnaCat': 'catadromous',\n",
       "   'AquacultureRef': None,\n",
       "   'Aquarium': 'never/rarely',\n",
       "   'AquariumFishII': None,\n",
       "   'AquariumRef': None,\n",
       "   'Author': '(Pallas, 1787)',\n",
       "   'AuthorRef': None,\n",
       "   'BaitRef': None,\n",
       "   'BodyShapeI': 'short and / or deep',\n",
       "   'Brack': -1,\n",
       "   'Comments': 'Found inshore, often in very shallow water and in estuaries during the summer; moving into deeper water in the winter (Ref. 27547).  However, they may occur in deep water throughout the year (Ref. 27547).  Does not venture into water of high salinities (Ref. 28899).  Young and adults move up rivers, as much as 120 km (Ref. 27547).  Benthic (Ref. 58426).  Feeds on crustaceans, worms, small mollusks, brittle stars, and small fishes (Ref. 6885).  Important game fish (Ref. 2850).  Utilized fresh and frozen; eaten steamed, fried, boiled, microwaved, and baked (Ref. 9988).',\n",
       "   'CommonLength': 57.5,\n",
       "   'CommonLengthF': None,\n",
       "   'CommonLengthRef': 12193,\n",
       "   'Complete': None,\n",
       "   'Dangerous': 'harmless',\n",
       "   'DangerousRef': None,\n",
       "   'DateChecked': '1995-10-26T00:00:00.000Z',\n",
       "   'DateEntered': '1991-05-02T00:00:00.000Z',\n",
       "   'DateModified': '2007-07-25T00:00:00.000Z',\n",
       "   'DemersPelag': 'demersal',\n",
       "   'DepthComRef': None,\n",
       "   'DepthRangeComDeep': None,\n",
       "   'DepthRangeComShallow': None,\n",
       "   'DepthRangeDeep': 375,\n",
       "   'DepthRangeRef': 6793,\n",
       "   'DepthRangeShallow': 0,\n",
       "   'EggPic': None,\n",
       "   'ElectroRef': None,\n",
       "   'Electrogenic': 'no special ability',\n",
       "   'Emblematic': 0,\n",
       "   'Entered': 1,\n",
       "   'Expert': 132,\n",
       "   'FBname': 'Starry flounder',\n",
       "   'FamCode': 440,\n",
       "   'Fresh': -1,\n",
       "   'GameFish': -1,\n",
       "   'GameRef': 2850,\n",
       "   'GenCode': 559,\n",
       "   'Genus': 'Platichthys',\n",
       "   'GoogleImage': -1,\n",
       "   'II': None,\n",
       "   'Importance': 'commercial',\n",
       "   'ImportanceRef': 9137,\n",
       "   'LTypeComF': None,\n",
       "   'LTypeComM': 'TL',\n",
       "   'LTypeMaxF': None,\n",
       "   'LTypeMaxM': 'TL',\n",
       "   'LandingStatistics': None,\n",
       "   'Landings': None,\n",
       "   'LarvaPic': None,\n",
       "   'Length': 91.0,\n",
       "   'LengthFemale': None,\n",
       "   'LifeCycle': None,\n",
       "   'LongevityCapRef': None,\n",
       "   'LongevityCaptive': None,\n",
       "   'LongevityWild': 24.0,\n",
       "   'LongevityWildRef': 28499,\n",
       "   'MCastnets': 0,\n",
       "   'MDredges': 0,\n",
       "   'MGillnets': 0,\n",
       "   'MHooksLines': 0,\n",
       "   'MLiftnets': 0,\n",
       "   'MOther': 0,\n",
       "   'MSeines': 0,\n",
       "   'MSpears': 0,\n",
       "   'MTraps': 0,\n",
       "   'MTrawls': -1,\n",
       "   'MainCatchingMethod': 'seines',\n",
       "   'MaxLengthRef': 2850,\n",
       "   'MaxWeightRef': 2850,\n",
       "   'MigratRef': 51243,\n",
       "   'Modified': 14,\n",
       "   'PD50': 0.75,\n",
       "   'Pic': None,\n",
       "   'PicPreferredName': 'Plste_u1.jpg',\n",
       "   'PicPreferredNameF': None,\n",
       "   'PicPreferredNameJ': None,\n",
       "   'PicPreferredNameM': None,\n",
       "   'PictureFemale': None,\n",
       "   'PriceCateg': 'medium',\n",
       "   'PriceReliability': 'Very questionable: based on ex-vessel price for species in this family',\n",
       "   'Profile': None,\n",
       "   'Remark': None,\n",
       "   'Remarks7': None,\n",
       "   'Saltwater': -1,\n",
       "   'Source': 'R',\n",
       "   'SpecCode': 4249,\n",
       "   'Species': 'stellatus',\n",
       "   'SpeciesRefNo': 30193,\n",
       "   'SubGenCode': None,\n",
       "   'Subfamily': 'Pleuronectinae',\n",
       "   'TS': None,\n",
       "   'TaxIssue': 0,\n",
       "   'UsedasBait': 'never/rarely',\n",
       "   'UsedforAquaculture': 'never/rarely',\n",
       "   'Vulnerability': 50.55,\n",
       "   'Weight': 9100.0,\n",
       "   'WeightFemale': None}],\n",
       " 'error': None,\n",
       " 'returned': 1}"
      ]
     },
     "execution_count": 13,
     "metadata": {},
     "output_type": "execute_result"
    }
   ],
   "source": [
    "parsed_json"
   ]
  },
  {
   "cell_type": "code",
   "execution_count": 14,
   "metadata": {
    "collapsed": false
   },
   "outputs": [
    {
     "data": {
      "text/plain": [
       "'Found inshore, often in very shallow water and in estuaries during the summer; moving into deeper water in the winter (Ref. 27547).  However, they may occur in deep water throughout the year (Ref. 27547).  Does not venture into water of high salinities (Ref. 28899).  Young and adults move up rivers, as much as 120 km (Ref. 27547).  Benthic (Ref. 58426).  Feeds on crustaceans, worms, small mollusks, brittle stars, and small fishes (Ref. 6885).  Important game fish (Ref. 2850).  Utilized fresh and frozen; eaten steamed, fried, boiled, microwaved, and baked (Ref. 9988).'"
      ]
     },
     "execution_count": 14,
     "metadata": {},
     "output_type": "execute_result"
    }
   ],
   "source": [
    "parsed_json[\"data\"][0][\"Comments\"]"
   ]
  },
  {
   "cell_type": "code",
   "execution_count": 15,
   "metadata": {
    "collapsed": false
   },
   "outputs": [
    {
     "data": {
      "text/plain": [
       "dict_keys(['Dangerous', 'Subfamily', 'LengthFemale', 'UsedforAquaculture', 'BodyShapeI', 'FamCode', 'MCastnets', 'LongevityCapRef', 'Landings', 'Source', 'LTypeMaxF', 'Complete', 'DepthRangeComShallow', 'Genus', 'Comments', 'AquariumRef', 'Electrogenic', 'MigratRef', 'MaxWeightRef', 'Profile', 'CommonLengthF', 'DepthComRef', 'MaxLengthRef', 'MSpears', 'Species', 'Emblematic', 'DepthRangeShallow', 'PD50', 'LTypeComF', 'DemersPelag', 'BaitRef', 'AquariumFishII', 'GoogleImage', 'PriceReliability', 'LarvaPic', 'ElectroRef', 'MainCatchingMethod', 'Entered', 'MDredges', 'LongevityWildRef', 'AnaCat', 'MTrawls', 'AquacultureRef', 'Fresh', 'SubGenCode', 'Importance', 'WeightFemale', 'DepthRangeComDeep', 'CommonLengthRef', 'DepthRangeDeep', 'Expert', 'Weight', 'PriceCateg', 'PicPreferredNameF', 'GameFish', 'LTypeComM', 'Saltwater', 'AuthorRef', 'EggPic', 'II', 'LandingStatistics', 'DateChecked', 'Aquarium', 'DateModified', 'GenCode', 'TS', 'TaxIssue', 'PicPreferredNameJ', 'DepthRangeRef', 'LTypeMaxM', 'UsedasBait', 'SpeciesRefNo', 'CommonLength', 'PictureFemale', 'Modified', 'MTraps', 'Vulnerability', 'Author', 'MSeines', 'Pic', 'MGillnets', 'PicPreferredNameM', 'ImportanceRef', 'PicPreferredName', 'Brack', 'Remark', 'LifeCycle', 'GameRef', 'Remarks7', 'LongevityWild', 'MOther', 'MLiftnets', 'DangerousRef', 'Length', 'SpecCode', 'MHooksLines', 'DateEntered', 'LongevityCaptive', 'FBname'])"
      ]
     },
     "execution_count": 15,
     "metadata": {},
     "output_type": "execute_result"
    }
   ],
   "source": [
    "parsed_json[\"data\"][0].keys()"
   ]
  },
  {
   "cell_type": "markdown",
   "metadata": {},
   "source": [
    "# skip Exercise 3"
   ]
  },
  {
   "cell_type": "markdown",
   "metadata": {},
   "source": [
    "# Homework:"
   ]
  },
  {
   "cell_type": "code",
   "execution_count": null,
   "metadata": {
    "collapsed": true
   },
   "outputs": [],
   "source": []
  }
 ],
 "metadata": {
  "anaconda-cloud": {},
  "kernelspec": {
   "display_name": "Python [default]",
   "language": "python",
   "name": "python3"
  },
  "language_info": {
   "codemirror_mode": {
    "name": "ipython",
    "version": 3
   },
   "file_extension": ".py",
   "mimetype": "text/x-python",
   "name": "python",
   "nbconvert_exporter": "python",
   "pygments_lexer": "ipython3",
   "version": "3.5.2"
  }
 },
 "nbformat": 4,
 "nbformat_minor": 2
}
