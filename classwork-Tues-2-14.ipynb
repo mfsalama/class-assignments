{
 "cells": [
  {
   "cell_type": "code",
   "execution_count": 1,
   "metadata": {
    "collapsed": false
   },
   "outputs": [
    {
     "name": "stdout",
     "output_type": "stream",
     "text": [
      "This string has5 characters\n"
     ]
    }
   ],
   "source": [
    "def stringAnalyzer(ss):\n",
    "    length= len(ss)\n",
    "    print(\"This string has{} characters\".format(length))\n",
    "tt = stringAnalyzer(\"hello\")"
   ]
  },
  {
   "cell_type": "code",
   "execution_count": 2,
   "metadata": {
    "collapsed": false
   },
   "outputs": [
    {
     "data": {
      "text/plain": [
       "'ggtct'"
      ]
     },
     "execution_count": 2,
     "metadata": {},
     "output_type": "execute_result"
    }
   ],
   "source": [
    "seq = \"ATCTTCT\"\n",
    "seq2 = \"GGTCT\"\n",
    "\n",
    "seq = seq.replace (\"A\", \"a\")\n",
    "seq = seq.replace (\"T\", \"t\")\n",
    "seq\n",
    "seq.lower()\n",
    "seq2.lower()"
   ]
  },
  {
   "cell_type": "code",
   "execution_count": 3,
   "metadata": {
    "collapsed": true
   },
   "outputs": [],
   "source": [
    "def greeter ():\n",
    "    print(\"Welcome!\")"
   ]
  },
  {
   "cell_type": "code",
   "execution_count": 5,
   "metadata": {
    "collapsed": false
   },
   "outputs": [
    {
     "data": {
      "text/plain": [
       "<function __main__.greeter>"
      ]
     },
     "execution_count": 5,
     "metadata": {},
     "output_type": "execute_result"
    }
   ],
   "source": [
    "greeter"
   ]
  },
  {
   "cell_type": "code",
   "execution_count": 6,
   "metadata": {
    "collapsed": true
   },
   "outputs": [],
   "source": [
    "def stringAnalyzer(ss):\n",
    "    length= len(ss)\n",
    "    yy = 26\n",
    "    zz = yy + length \n",
    "    print(\"This string has{} characters\".format(length))\n",
    "    return zz"
   ]
  },
  {
   "cell_type": "code",
   "execution_count": 9,
   "metadata": {
    "collapsed": false
   },
   "outputs": [
    {
     "name": "stdout",
     "output_type": "stream",
     "text": [
      "This string has7 characters\n",
      "33\n"
     ]
    }
   ],
   "source": [
    "longer_length= stringAnalyzer(seq)\n",
    "print(longer_length)"
   ]
  },
  {
   "cell_type": "code",
   "execution_count": 15,
   "metadata": {
    "collapsed": true
   },
   "outputs": [],
   "source": [
    "seq = \"ATTCGTTAT\"\n",
    "def get_at_content(dna):\n",
    "    dna = dna.upper() #make sure the sequence is uppercase\n",
    "    length = len(dna)\n",
    "    a_count = dna.count('A')\n",
    "    t_count = dna.count ('T')\n",
    "    at_content = (a_count + t_count) / length\n",
    "    return at_content"
   ]
  },
  {
   "cell_type": "code",
   "execution_count": 16,
   "metadata": {
    "collapsed": false
   },
   "outputs": [
    {
     "name": "stdout",
     "output_type": "stream",
     "text": [
      "0.5625\n",
      "0.5185185185185185\n"
     ]
    }
   ],
   "source": [
    "print (get_at_content(\"ATGCATGCAATGTAGC\"))\n",
    "\n",
    "print (get_at_content(\"aactgtagctagctagctagcagcgta\"))"
   ]
  },
  {
   "cell_type": "markdown",
   "metadata": {},
   "source": [
    "### in class challenge\n",
    "\n",
    "#write a function that counts the number of A,T,C, and G. Use a loop"
   ]
  },
  {
   "cell_type": "code",
   "execution_count": 24,
   "metadata": {
    "collapsed": false
   },
   "outputs": [],
   "source": [
    "def baseCounter(dna):\n",
    "    baseDict= {} #will hold my counts\n",
    "    for cc in [\"A\", \"T\", \"C\", \"G\"]:\n",
    "        count = dna.upper().count(cc)\n",
    "        baseDict[cc] = count\n",
    "        #print(cc + \"=\" + str(count)) \n",
    "        return baseDict\n",
    "dd = baseCounter(seq)"
   ]
  },
  {
   "cell_type": "code",
   "execution_count": 30,
   "metadata": {
    "collapsed": true
   },
   "outputs": [],
   "source": [
    "seq = \"ATCGTAT\"\n",
    "def get_at_content(dna):\n",
    "    dnalist = []\n",
    "    dna = dna.upper()\n",
    "    length = len(dna)\n",
    "    a_count = dna.count(\"A\")\n",
    "    t_count = dna.count(\"T\")\n",
    "    at_content = (a_count + t_count) / length\n",
    "    dnalist.append(length)\n",
    "    dnalist.append(a_count)\n",
    "    dnalist.append(t_count)\n",
    "    dnalist.append(at_content)\n",
    "    return dnalist"
   ]
  },
  {
   "cell_type": "code",
   "execution_count": 32,
   "metadata": {
    "collapsed": false
   },
   "outputs": [],
   "source": [
    "res = get_at_content(seq)"
   ]
  },
  {
   "cell_type": "code",
   "execution_count": 34,
   "metadata": {
    "collapsed": false
   },
   "outputs": [
    {
     "data": {
      "text/plain": [
       "0.7142857142857143"
      ]
     },
     "execution_count": 34,
     "metadata": {},
     "output_type": "execute_result"
    }
   ],
   "source": [
    "res[-1]"
   ]
  },
  {
   "cell_type": "code",
   "execution_count": 46,
   "metadata": {
    "collapsed": false
   },
   "outputs": [],
   "source": [
    "def get_at_content(dna, sigfig):\n",
    "    length = len(dna)\n",
    "    a_count = dna.upper().count('A')\n",
    "    t_count = dna.upper().count('T')\n",
    "    at_content = (a_count + t_count) / length\n",
    "    rounded = round(at_content, sigfig)\n",
    "    return rounded"
   ]
  },
  {
   "cell_type": "code",
   "execution_count": 49,
   "metadata": {
    "collapsed": false
   },
   "outputs": [
    {
     "ename": "TypeError",
     "evalue": "get_at_content() missing 1 required positional argument: 'sigfig'",
     "output_type": "error",
     "traceback": [
      "\u001b[0;31m---------------------------------------------------------------------------\u001b[0m",
      "\u001b[0;31mTypeError\u001b[0m                                 Traceback (most recent call last)",
      "\u001b[0;32m<ipython-input-49-f634f9cbc41b>\u001b[0m in \u001b[0;36m<module>\u001b[0;34m()\u001b[0m\n\u001b[0;32m----> 1\u001b[0;31m \u001b[0mget_at_content\u001b[0m\u001b[0;34m(\u001b[0m\u001b[0;34m\"ATGCGCGATCGATGCAATCG\"\u001b[0m\u001b[0;34m)\u001b[0m\u001b[0;34m\u001b[0m\u001b[0m\n\u001b[0m",
      "\u001b[0;31mTypeError\u001b[0m: get_at_content() missing 1 required positional argument: 'sigfig'"
     ]
    }
   ],
   "source": [
    "get_at_content(\"ATGCGCGATCGATGCAATCG\")"
   ]
  },
  {
   "cell_type": "code",
   "execution_count": null,
   "metadata": {
    "collapsed": true
   },
   "outputs": [],
   "source": []
  }
 ],
 "metadata": {
  "anaconda-cloud": {},
  "kernelspec": {
   "display_name": "Python [default]",
   "language": "python",
   "name": "python3"
  },
  "language_info": {
   "codemirror_mode": {
    "name": "ipython",
    "version": 3
   },
   "file_extension": ".py",
   "mimetype": "text/x-python",
   "name": "python",
   "nbconvert_exporter": "python",
   "pygments_lexer": "ipython3",
   "version": "3.5.2"
  }
 },
 "nbformat": 4,
 "nbformat_minor": 2
}
