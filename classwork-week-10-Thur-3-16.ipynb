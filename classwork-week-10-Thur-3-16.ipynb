{
 "cells": [
  {
   "cell_type": "markdown",
   "metadata": {},
   "source": [
    "# Lightning Talk Schedule for Thursday, March 16th\n",
    "\n",
    "09:30 Aditya Kantawala\n",
    "\n",
    "09:34 Justin Shieh\n",
    "\n",
    "09:38 Sarah Kim\n",
    "\n",
    "09:42 Christina Zhou\n",
    "\n",
    "09:46 Gayane Hovsepyan\n",
    "\n",
    "09:50 Roxana Nojoumi\n",
    "\n",
    "09:54 Cooper Kass\n",
    "\n",
    "09:58 Jeffrey Lee\n",
    "\n",
    "10:02 Laura Trejo\n",
    "\n",
    "10:06 Jin Kim\n",
    "\n",
    "10:10 Marina Salama\n",
    "\n",
    "10:14 Erin Solis\n",
    "\n",
    "10:18 Sean Mathew\n",
    "\n",
    "10:22 Tiffany Dang"
   ]
  },
  {
   "cell_type": "markdown",
   "metadata": {},
   "source": [
    "# 09:30 Aditya Kantawala: Dinosaurs:\n",
    "\n",
    "* question: the weather was different as you said, so how do you think you can try to fix this difference to make your data more accurate?"
   ]
  },
  {
   "cell_type": "markdown",
   "metadata": {},
   "source": [
    "# 09:34 Justin Shieh:catacea: \n",
    "\n",
    "* question: how are you planning to next use pyrate to show this correlation? "
   ]
  },
  {
   "cell_type": "markdown",
   "metadata": {},
   "source": [
    "# 09:38 Sarah Kim: Canis:\n",
    "\n",
    "* question: one of the graph was not very clear, for your final paper do you plan to check your axis and make it a bit clear?"
   ]
  },
  {
   "cell_type": "markdown",
   "metadata": {},
   "source": [
    "# 09:42 Christina Zhou: Bats:\n",
    "\n",
    "* why do you think their size is an issue in fossils/"
   ]
  },
  {
   "cell_type": "markdown",
   "metadata": {},
   "source": [
    "# 09:46 Gayane Hovsepyan: Autism:\n",
    "\n",
    "* question: very good graph ! Your graph had many variables, so how do you think you can add a legend or a key so people can follow along better!"
   ]
  },
  {
   "cell_type": "markdown",
   "metadata": {},
   "source": [
    "# 09:50 Roxana Nojoumi: Horses:\n",
    "\n",
    "* question: hwo do you think you can test your hypothesis to test what you think about the huge spike in the pyrate plot?"
   ]
  },
  {
   "cell_type": "markdown",
   "metadata": {},
   "source": [
    "# 09:54 Cooper Kass: Seagrass\n",
    "\n",
    "* question: why did you choose to use a pie chart versus other plots?"
   ]
  },
  {
   "cell_type": "markdown",
   "metadata": {},
   "source": [
    "# 09:58 Jeffrey Lee: Canidae:\n",
    "\n",
    "* question: How do you think the correlation will be before really testing it out for your final paper?"
   ]
  },
  {
   "cell_type": "markdown",
   "metadata": {},
   "source": [
    "# 10:02 Laura Trejo: N. Birds:\n",
    "\n",
    "* question: the code that did not work, what were you planning to graph and how do you think you can try fixing that ?"
   ]
  },
  {
   "cell_type": "markdown",
   "metadata": {},
   "source": [
    "# 10:06 Jin Kim: Birds:\n",
    "\n",
    "* question: how do you think would be a good visual way to compare just these two further compared to the rest for your final paper? "
   ]
  },
  {
   "cell_type": "markdown",
   "metadata": {},
   "source": [
    "# 10:10 Marina Salama: ME !"
   ]
  },
  {
   "cell_type": "markdown",
   "metadata": {},
   "source": [
    "# 10:14 Erin Solis: rats:\n",
    "\n",
    "* question: How do you think the pyrate graphs would be different if you ran it much more than you did since you mentioned that you werent able to run it a lot ?"
   ]
  },
  {
   "cell_type": "markdown",
   "metadata": {},
   "source": [
    "# 10:18 Sean Mathew: Felidae:\n",
    "\n",
    "* question: how do you think you can take prof.'s advice and help improve your pyrate to make it focus more on your desired time frame?"
   ]
  },
  {
   "cell_type": "markdown",
   "metadata": {},
   "source": [
    "# 10:22 Tiffany Dang: Mustellidae:\n",
    "\n",
    "* question:  did you find anything surprising or unusual from your pyrate graphs?"
   ]
  },
  {
   "cell_type": "code",
   "execution_count": null,
   "metadata": {
    "collapsed": true
   },
   "outputs": [],
   "source": []
  }
 ],
 "metadata": {
  "anaconda-cloud": {},
  "kernelspec": {
   "display_name": "Python [default]",
   "language": "python",
   "name": "python3"
  },
  "language_info": {
   "codemirror_mode": {
    "name": "ipython",
    "version": 3
   },
   "file_extension": ".py",
   "mimetype": "text/x-python",
   "name": "python",
   "nbconvert_exporter": "python",
   "pygments_lexer": "ipython3",
   "version": "3.5.2"
  }
 },
 "nbformat": 4,
 "nbformat_minor": 2
}
