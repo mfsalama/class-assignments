{
 "cells": [
  {
   "cell_type": "markdown",
   "metadata": {},
   "source": [
    "# Questions for Presentations on 3/14/2017\n",
    "\n",
    "* Lightning Talk Schedule for Tuesday, March 14th\n",
    "\n",
    "09:30 Kelsey Jiang\n",
    "\n",
    "09:34 Dominique Castro\n",
    "\n",
    "09:38 Linna Sun\n",
    "\n",
    "09:42 Ashen Parikh\n",
    "\n",
    "09:46 Matthew Muia\n",
    "\n",
    "09:50 Antonella Gonzalez\n",
    "\n",
    "09:54 Yee Chau\n",
    "\n",
    "09:58 Kristen Lee\n",
    "\n",
    "10:02 Madison Downing\n",
    "\n",
    "10:06 Youstina Salama\n",
    "\n",
    "10:10 Jeremy Wadowski\n",
    "\n",
    "10:14 Mehdi Nojoumi\n",
    "\n",
    "10:18 Junghoon Kim\n",
    "\n",
    "10:22 Dustin Wong\n",
    "\n",
    "10:26 Hyein Kil"
   ]
  },
  {
   "cell_type": "markdown",
   "metadata": {},
   "source": [
    "# 09:30 Kelsey Jiang: Selachii:\n",
    "\n",
    "* question: Are you going to be able to get a chance to compare your pyrate graphs with your soon to be ggplots and analyze wether they are relatively showing the same data or not? Which one is clear and more revealing for you ?"
   ]
  },
  {
   "cell_type": "markdown",
   "metadata": {},
   "source": [
    "# 09:34 Dominique Castro: canis:\n",
    "\n",
    "* question: What do you mean there are so many fossils they \"cannot identify\"? "
   ]
  },
  {
   "cell_type": "markdown",
   "metadata": {},
   "source": [
    "# 09:38 Linna Sun: Proboscidea:\n",
    "\n",
    "* question: Do you think that the fact that this species lives very long periods of time was a factor in your inability to easily find as much speciation as you itnended to from the start?"
   ]
  },
  {
   "cell_type": "markdown",
   "metadata": {},
   "source": [
    "# 09:42 Ashen Parikh: Effect between country:\n",
    "\n",
    "* question: what was your motivation for picking this unique topic ?"
   ]
  },
  {
   "cell_type": "markdown",
   "metadata": {},
   "source": [
    "# 09:46 Matthew Muia: California Valley Oak:\n",
    "\n",
    "* question: what is so unique about this specific tree that your lab decided on focusing on it and explore it further?"
   ]
  },
  {
   "cell_type": "markdown",
   "metadata": {},
   "source": [
    "# 09:50 Antonella Gonzalez: Alligatoridae:\n",
    "\n",
    "* question: What do you think were factors in the vast difference between the number of species back then and the few 5 species which survived today ?"
   ]
  },
  {
   "cell_type": "markdown",
   "metadata": {},
   "source": [
    "# 09:54 Yee Chau: Squamata:\n",
    "\n",
    "* question: Did you get a chance to recreate your R plot with something else such as matplot to compare and see whether one was more revealing or clear?"
   ]
  },
  {
   "cell_type": "markdown",
   "metadata": {},
   "source": [
    "# 09:58 Kristen Lee: Pilosa:\n",
    "\n",
    "* question: why did you choose to utilize a package such as pylab even though we havent covered that in class?"
   ]
  },
  {
   "cell_type": "markdown",
   "metadata": {},
   "source": [
    "# 10:02 Madison Downing: Birds: \n",
    "\n",
    "* question: Are you interested in looking at a specific region to find relations or just in general? "
   ]
  },
  {
   "cell_type": "markdown",
   "metadata": {},
   "source": [
    "# 10:06 Youstina Salama: Haplorhini:\n",
    "\n",
    "* question: what were the biggest differences that you found / saw between the different formats in re-creating this graph?"
   ]
  },
  {
   "cell_type": "markdown",
   "metadata": {},
   "source": [
    "# 10:10 Jeremy Wadowski: Triatheletes:\n",
    "\n",
    "* question: it seemed like you based the graph you showed on just one person, how do you think the graph would be different if yo tried to include the average of all data collected instead?"
   ]
  },
  {
   "cell_type": "markdown",
   "metadata": {},
   "source": [
    "# 10:14 Mehdi Nojoumi: Atherosclerosis:\n",
    "\n",
    "* question: why did you choose to plot a pie chart over other types of graphs?"
   ]
  },
  {
   "cell_type": "markdown",
   "metadata": {},
   "source": [
    "# 10:18 Junghoon Kim: Blattella Germanica: \n",
    "\n",
    "* question: What conclusions did you come up based on your R map graphs, it was not very clear? "
   ]
  },
  {
   "cell_type": "markdown",
   "metadata": {},
   "source": [
    "# 10:22 Dustin Wong: Feliformia:\n",
    "\n",
    "* question: What do you think are some factors that migth contribute to these many very small time periods on your plot ?"
   ]
  },
  {
   "cell_type": "markdown",
   "metadata": {},
   "source": [
    "# 10:26 Hyein Kil: American vs. Asian Bird:\n",
    "\n",
    "* question: Great job! Did you find any great differences between the American vs. Asian bird made specifically by the enviornment barriers?"
   ]
  },
  {
   "cell_type": "code",
   "execution_count": null,
   "metadata": {
    "collapsed": true
   },
   "outputs": [],
   "source": []
  }
 ],
 "metadata": {
  "anaconda-cloud": {},
  "kernelspec": {
   "display_name": "Python [default]",
   "language": "python",
   "name": "python3"
  },
  "language_info": {
   "codemirror_mode": {
    "name": "ipython",
    "version": 3
   },
   "file_extension": ".py",
   "mimetype": "text/x-python",
   "name": "python",
   "nbconvert_exporter": "python",
   "pygments_lexer": "ipython3",
   "version": "3.5.2"
  }
 },
 "nbformat": 4,
 "nbformat_minor": 2
}
